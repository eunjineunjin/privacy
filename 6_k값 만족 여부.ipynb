{
 "cells": [
  {
   "cell_type": "code",
   "execution_count": 226,
   "metadata": {},
   "outputs": [],
   "source": [
    "import pandas as pd\n",
    "import numpy as np\n",
    "import math as mt"
   ]
  },
  {
   "cell_type": "code",
   "execution_count": 227,
   "metadata": {},
   "outputs": [],
   "source": [
    "created_df = pd.read_csv('C:\\\\Users\\enjin\\Desktop\\privacy\\data_ori2.csv') #조건 충족 못하는 비식별 파일\n",
    "created_df = created_df[['일련번호','나이', '성별','가입점','시도','신용등급','월소득']]\n",
    "QI = pd.Series(['성별','가입점','시도']) #k값 만족해야하는 준식별자"
   ]
  },
  {
   "cell_type": "code",
   "execution_count": 228,
   "metadata": {},
   "outputs": [
    {
     "name": "stderr",
     "output_type": "stream",
     "text": [
      "C:\\Users\\enjin\\Anaconda3\\lib\\site-packages\\ipykernel_launcher.py:10: SettingWithCopyWarning: \n",
      "A value is trying to be set on a copy of a slice from a DataFrame\n",
      "\n",
      "See the caveats in the documentation: http://pandas.pydata.org/pandas-docs/stable/user_guide/indexing.html#returning-a-view-versus-a-copy\n",
      "  # Remove the CWD from sys.path while we load stuff.\n",
      "C:\\Users\\enjin\\Anaconda3\\lib\\site-packages\\ipykernel_launcher.py:14: SettingWithCopyWarning: \n",
      "A value is trying to be set on a copy of a slice from a DataFrame\n",
      "\n",
      "See the caveats in the documentation: http://pandas.pydata.org/pandas-docs/stable/user_guide/indexing.html#returning-a-view-versus-a-copy\n",
      "  \n"
     ]
    }
   ],
   "source": [
    "for i in range(len(QI)):\n",
    "    #정렬\n",
    "    created_df = created_df.sort_values(by=[QI[i]])\n",
    "    created_df = created_df.reset_index(drop=True)\n",
    "    #index 매기기\n",
    "    tmp = created_df[QI[i]][0]\n",
    "    group_num=0\n",
    "    for j in range(len(created_df.index)):\n",
    "        if created_df[QI[i]][j]==tmp:\n",
    "            created_df[QI[i]][j] = group_num ##걍 지워도 되겠지?^^\n",
    "        else:\n",
    "            group_num=group_num+1\n",
    "            tmp = created_df[QI[i]][j]\n",
    "            created_df[QI[i]][j] = group_num"
   ]
  },
  {
   "cell_type": "code",
   "execution_count": 229,
   "metadata": {},
   "outputs": [
    {
     "name": "stderr",
     "output_type": "stream",
     "text": [
      "C:\\Users\\enjin\\Anaconda3\\lib\\site-packages\\ipykernel_launcher.py:3: SettingWithCopyWarning: \n",
      "A value is trying to be set on a copy of a slice from a DataFrame\n",
      "\n",
      "See the caveats in the documentation: http://pandas.pydata.org/pandas-docs/stable/user_guide/indexing.html#returning-a-view-versus-a-copy\n",
      "  This is separate from the ipykernel package so we can avoid doing imports until\n"
     ]
    }
   ],
   "source": [
    "created_df['k_index'] = 0\n",
    "for i in range(len(created_df)):\n",
    "    created_df['k_index'][i] = \"_\"+str(created_df['성별'][i])+\"_\"+str(created_df['가입점'][i])+\"_\"+str(created_df['시도'][i])"
   ]
  },
  {
   "cell_type": "code",
   "execution_count": 230,
   "metadata": {},
   "outputs": [
    {
     "name": "stdout",
     "output_type": "stream",
     "text": [
      "Counter({'_0_1_1': 2171, '_1_1_1': 2075, '_0_1_9': 1264, '_1_1_9': 1213, '_1_0_1': 624, '_0_0_1': 604, '_1_0_9': 390, '_0_0_9': 383, '_1_1_11': 357, '_0_2_1': 336, '_0_1_11': 321, '_1_2_1': 263, '_1_1_3': 199, '_1_1_4': 194, '_0_1_15': 193, '_0_2_9': 188, '_0_1_3': 181, '_1_2_9': 181, '_1_1_15': 177, '_0_1_4': 176, '_1_1_0': 133, '_1_1_8': 124, '_0_1_13': 123, '_0_1_16': 123, '_0_1_8': 122, '_1_1_16': 116, '_0_1_0': 114, '_0_0_11': 111, '_1_1_12': 111, '_1_1_13': 111, '_0_1_6': 107, '_0_1_12': 106, '_1_1_7': 102, '_1_1_6': 95, '_0_1_7': 95, '_1_0_11': 91, '_1_1_10': 71, '_1_1_5': 58, '_0_1_14': 57, '_1_0_3': 55, '_1_2_11': 54, '_0_2_11': 53, '_0_1_10': 52, '_0_1_5': 49, '_0_0_3': 48, '_1_1_14': 47, '_0_0_4': 45, '_1_0_8': 44, '_0_0_8': 44, '_1_0_15': 42, '_1_0_0': 41, '_0_0_15': 41, '_0_0_0': 39, '_1_0_4': 39, '_1_0_16': 35, '_0_0_12': 31, '_0_0_6': 30, '_0_0_7': 30, '_1_0_12': 30, '_1_0_13': 30, '_0_2_15': 29, '_0_0_16': 28, '_0_2_3': 26, '_0_0_13': 25, '_1_2_4': 24, '_1_0_6': 24, '_1_0_7': 24, '_0_2_8': 23, '_1_2_15': 23, '_0_0_10': 22, '_1_2_0': 21, '_0_0_5': 20, '_1_2_3': 19, '_0_2_4': 18, '_0_2_7': 18, '_1_2_16': 18, '_1_0_5': 17, '_1_2_6': 17, '_1_2_13': 17, '_0_0_14': 17, '_1_2_7': 16, '_1_0_10': 16, '_0_2_0': 15, '_1_2_8': 14, '_1_2_12': 13, '_0_2_6': 12, '_0_2_12': 12, '_0_2_13': 12, '_0_2_14': 12, '_1_0_14': 12, '_0_2_10': 11, '_1_2_14': 11, '_0_2_16': 11, '_1_2_5': 10, '_1_2_10': 9, '_0_2_5': 6, '_0_1_2': 2, '_1_0_2': 1, '_1_2_2': 1, '_1_1_2': 1})\n"
     ]
    }
   ],
   "source": [
    "from collections import Counter\n",
    "counts = Counter(created_df['k_index'])\n",
    "print(counts)"
   ]
  },
  {
   "cell_type": "code",
   "execution_count": 231,
   "metadata": {},
   "outputs": [
    {
     "name": "stdout",
     "output_type": "stream",
     "text": [
      "13383341\n",
      "26417689\n",
      "14010939\n",
      "21925311\n",
      "13480686\n",
      "5\n"
     ]
    }
   ],
   "source": [
    "s = {'_0_1_2', '_1_0_2', '_1_2_2', '_1_1_2'}\n",
    "\n",
    "count = 0 #k값 만족 못하는 것들 개수\n",
    "for i in range(len(created_df)):\n",
    "    if  (created_df['k_index'][i] in s):\n",
    "        count=count+1\n",
    "        print(created_df['일련번호'][i])\n",
    "\n",
    "print(count)"
   ]
  },
  {
   "cell_type": "code",
   "execution_count": 234,
   "metadata": {},
   "outputs": [],
   "source": [
    "#행 삭제\n",
    "for i in range(len(created_df)):\n",
    "    if  (created_df['k_index'][i] in s):\n",
    "        created_df.drop(i, inplace=True)"
   ]
  },
  {
   "cell_type": "code",
   "execution_count": 235,
   "metadata": {},
   "outputs": [
    {
     "data": {
      "text/html": [
       "<div>\n",
       "<style scoped>\n",
       "    .dataframe tbody tr th:only-of-type {\n",
       "        vertical-align: middle;\n",
       "    }\n",
       "\n",
       "    .dataframe tbody tr th {\n",
       "        vertical-align: top;\n",
       "    }\n",
       "\n",
       "    .dataframe thead th {\n",
       "        text-align: right;\n",
       "    }\n",
       "</style>\n",
       "<table border=\"1\" class=\"dataframe\">\n",
       "  <thead>\n",
       "    <tr style=\"text-align: right;\">\n",
       "      <th></th>\n",
       "      <th>일련번호</th>\n",
       "      <th>나이</th>\n",
       "      <th>성별</th>\n",
       "      <th>가입점</th>\n",
       "      <th>시도</th>\n",
       "      <th>신용등급</th>\n",
       "      <th>월소득</th>\n",
       "      <th>k_index</th>\n",
       "    </tr>\n",
       "  </thead>\n",
       "  <tbody>\n",
       "    <tr>\n",
       "      <td>0</td>\n",
       "      <td>21044651</td>\n",
       "      <td>33</td>\n",
       "      <td>0</td>\n",
       "      <td>1</td>\n",
       "      <td>0</td>\n",
       "      <td>3</td>\n",
       "      <td>11917317</td>\n",
       "      <td>_0_1_0</td>\n",
       "    </tr>\n",
       "    <tr>\n",
       "      <td>1</td>\n",
       "      <td>13668994</td>\n",
       "      <td>41</td>\n",
       "      <td>1</td>\n",
       "      <td>0</td>\n",
       "      <td>0</td>\n",
       "      <td>6</td>\n",
       "      <td>3013333</td>\n",
       "      <td>_1_0_0</td>\n",
       "    </tr>\n",
       "    <tr>\n",
       "      <td>2</td>\n",
       "      <td>20577199</td>\n",
       "      <td>14</td>\n",
       "      <td>1</td>\n",
       "      <td>2</td>\n",
       "      <td>0</td>\n",
       "      <td>6</td>\n",
       "      <td>42500</td>\n",
       "      <td>_1_2_0</td>\n",
       "    </tr>\n",
       "    <tr>\n",
       "      <td>3</td>\n",
       "      <td>10538098</td>\n",
       "      <td>54</td>\n",
       "      <td>0</td>\n",
       "      <td>0</td>\n",
       "      <td>0</td>\n",
       "      <td>1</td>\n",
       "      <td>8059167</td>\n",
       "      <td>_0_0_0</td>\n",
       "    </tr>\n",
       "    <tr>\n",
       "      <td>4</td>\n",
       "      <td>21050562</td>\n",
       "      <td>54</td>\n",
       "      <td>0</td>\n",
       "      <td>1</td>\n",
       "      <td>0</td>\n",
       "      <td>7</td>\n",
       "      <td>1049167</td>\n",
       "      <td>_0_1_0</td>\n",
       "    </tr>\n",
       "    <tr>\n",
       "      <td>...</td>\n",
       "      <td>...</td>\n",
       "      <td>...</td>\n",
       "      <td>...</td>\n",
       "      <td>...</td>\n",
       "      <td>...</td>\n",
       "      <td>...</td>\n",
       "      <td>...</td>\n",
       "      <td>...</td>\n",
       "    </tr>\n",
       "    <tr>\n",
       "      <td>14961</td>\n",
       "      <td>25973471</td>\n",
       "      <td>43</td>\n",
       "      <td>0</td>\n",
       "      <td>1</td>\n",
       "      <td>16</td>\n",
       "      <td>1</td>\n",
       "      <td>8082500</td>\n",
       "      <td>_0_1_16</td>\n",
       "    </tr>\n",
       "    <tr>\n",
       "      <td>14962</td>\n",
       "      <td>18797275</td>\n",
       "      <td>50</td>\n",
       "      <td>0</td>\n",
       "      <td>0</td>\n",
       "      <td>16</td>\n",
       "      <td>5</td>\n",
       "      <td>8025833</td>\n",
       "      <td>_0_0_16</td>\n",
       "    </tr>\n",
       "    <tr>\n",
       "      <td>14963</td>\n",
       "      <td>24091914</td>\n",
       "      <td>67</td>\n",
       "      <td>1</td>\n",
       "      <td>0</td>\n",
       "      <td>16</td>\n",
       "      <td>2</td>\n",
       "      <td>1077500</td>\n",
       "      <td>_1_0_16</td>\n",
       "    </tr>\n",
       "    <tr>\n",
       "      <td>14964</td>\n",
       "      <td>15388571</td>\n",
       "      <td>48</td>\n",
       "      <td>1</td>\n",
       "      <td>2</td>\n",
       "      <td>16</td>\n",
       "      <td>4</td>\n",
       "      <td>17500</td>\n",
       "      <td>_1_2_16</td>\n",
       "    </tr>\n",
       "    <tr>\n",
       "      <td>14965</td>\n",
       "      <td>22163855</td>\n",
       "      <td>66</td>\n",
       "      <td>0</td>\n",
       "      <td>1</td>\n",
       "      <td>16</td>\n",
       "      <td>9</td>\n",
       "      <td>1043333</td>\n",
       "      <td>_0_1_16</td>\n",
       "    </tr>\n",
       "  </tbody>\n",
       "</table>\n",
       "<p>14961 rows × 8 columns</p>\n",
       "</div>"
      ],
      "text/plain": [
       "           일련번호  나이 성별 가입점  시도  신용등급       월소득  k_index\n",
       "0      21044651  33  0   1   0     3  11917317   _0_1_0\n",
       "1      13668994  41  1   0   0     6   3013333   _1_0_0\n",
       "2      20577199  14  1   2   0     6     42500   _1_2_0\n",
       "3      10538098  54  0   0   0     1   8059167   _0_0_0\n",
       "4      21050562  54  0   1   0     7   1049167   _0_1_0\n",
       "...         ...  .. ..  ..  ..   ...       ...      ...\n",
       "14961  25973471  43  0   1  16     1   8082500  _0_1_16\n",
       "14962  18797275  50  0   0  16     5   8025833  _0_0_16\n",
       "14963  24091914  67  1   0  16     2   1077500  _1_0_16\n",
       "14964  15388571  48  1   2  16     4     17500  _1_2_16\n",
       "14965  22163855  66  0   1  16     9   1043333  _0_1_16\n",
       "\n",
       "[14961 rows x 8 columns]"
      ]
     },
     "execution_count": 235,
     "metadata": {},
     "output_type": "execute_result"
    }
   ],
   "source": [
    "created_df"
   ]
  }
 ],
 "metadata": {
  "kernelspec": {
   "display_name": "Python 3",
   "language": "python",
   "name": "python3"
  },
  "language_info": {
   "codemirror_mode": {
    "name": "ipython",
    "version": 3
   },
   "file_extension": ".py",
   "mimetype": "text/x-python",
   "name": "python",
   "nbconvert_exporter": "python",
   "pygments_lexer": "ipython3",
   "version": "3.7.4"
  }
 },
 "nbformat": 4,
 "nbformat_minor": 2
}
